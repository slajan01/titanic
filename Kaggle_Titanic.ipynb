{
  "nbformat": 4,
  "nbformat_minor": 0,
  "metadata": {
    "colab": {
      "provenance": [],
      "authorship_tag": "ABX9TyMATYHxeV5CyU3fbRSXb7wD",
      "include_colab_link": true
    },
    "kernelspec": {
      "name": "python3",
      "display_name": "Python 3"
    },
    "language_info": {
      "name": "python"
    }
  },
  "cells": [
    {
      "cell_type": "markdown",
      "metadata": {
        "id": "view-in-github",
        "colab_type": "text"
      },
      "source": [
        "<a href=\"https://colab.research.google.com/github/slajan01/titanic_ml/blob/main/Kaggle_Titanic.ipynb\" target=\"_parent\"><img src=\"https://colab.research.google.com/assets/colab-badge.svg\" alt=\"Open In Colab\"/></a>"
      ]
    },
    {
      "cell_type": "code",
      "source": [
        "import numpy as np\n",
        "import pandas as pd\n",
        "from sklearn.ensemble import RandomForestClassifier\n",
        "from sklearn.model_selection import train_test_split"
      ],
      "metadata": {
        "id": "2oehJZPXNbcL"
      },
      "execution_count": 1,
      "outputs": []
    },
    {
      "cell_type": "code",
      "source": [
        "train_data = pd.read_csv(\"/content/train.csv\")"
      ],
      "metadata": {
        "collapsed": true,
        "id": "cG9lIzI9NBnn"
      },
      "execution_count": 3,
      "outputs": []
    },
    {
      "cell_type": "code",
      "source": [
        "test_data = pd.read_csv(\"/content/test.csv\")"
      ],
      "metadata": {
        "collapsed": true,
        "id": "8A9qTI3-N1j0"
      },
      "execution_count": 4,
      "outputs": []
    },
    {
      "cell_type": "code",
      "source": [
        "y = train_data[\"Survived\"]\n",
        "\n",
        "features = [\"Pclass\", \"Sex\", \"SibSp\", \"Parch\", \"Age\"]\n",
        "X = pd.get_dummies(train_data[features])\n",
        "X_test = pd.get_dummies(test_data[features])\n",
        "\n",
        "X = X.fillna(X.mean())\n",
        "X_test = X_test.fillna(X_test.mean())\n",
        "\n",
        "X_train, X_val, y_train, y_val = train_test_split(X, y, test_size=0.5, random_state=42, shuffle=True)\n",
        "\n",
        "model = RandomForestClassifier(\n",
        "    criterion=\"gini\",\n",
        "    n_estimators=5000,\n",
        "    max_depth=10,\n",
        "    min_samples_split=2,\n",
        "    min_samples_leaf=1,\n",
        "    max_features=\"sqrt\",\n",
        "    max_leaf_nodes=30,\n",
        "    bootstrap=True,\n",
        ")\n",
        "\n",
        "model.fit(X_train, y_train)\n",
        "\n",
        "score = model.score(X_val, y_val)\n",
        "print(score)\n",
        "\n",
        "predictions = model.predict(X_test)\n",
        "\n",
        "output = pd.DataFrame({'PassengerId': test_data.PassengerId, 'Survived': predictions})\n",
        "output.to_csv('submission.csv', index=False)\n",
        "print(\"Your submission was successfully saved!\")"
      ],
      "metadata": {
        "colab": {
          "base_uri": "https://localhost:8080/"
        },
        "id": "kKixCa5XOHXv",
        "outputId": "4e3e73be-ebb2-45c1-fc1c-c0f0f6154653"
      },
      "execution_count": 14,
      "outputs": [
        {
          "output_type": "stream",
          "name": "stdout",
          "text": [
            "0.8363228699551569\n",
            "Your submission was successfully saved!\n"
          ]
        }
      ]
    },
    {
      "cell_type": "code",
      "source": [
        "criterions = [\"gini\", \"entropy\"]\n",
        "max_leaf_nodes = [10, 20, 30]\n",
        "max_depths = [5, 10, 15]\n",
        "min_samples_splits = [2, 3, 4, 5]\n",
        "min_samples_leafs = [1, 2, 3]\n",
        "max_features = [\"sqrt\", \"log2\", 1, 2, 3, 4, 5]\n",
        "\n",
        "best_hyperparameters = None\n",
        "best_score = 0\n",
        "\n",
        "X_train, X_val, y_train, y_val = train_test_split(X, y, test_size=2/3, random_state=0, shuffle=True)\n",
        "\n",
        "\n",
        "for criterion in criterions:\n",
        "    for max_leaf_node in max_leaf_nodes:\n",
        "        for max_depth in max_depths:\n",
        "            for min_samples_split in min_samples_splits:\n",
        "                for min_samples_leaf in min_samples_leafs:\n",
        "                    for max_feature in max_features:\n",
        "                        model = RandomForestClassifier(\n",
        "                            criterion=criterion,\n",
        "                            max_leaf_nodes=max_leaf_node,\n",
        "                            max_depth=max_depth,\n",
        "                            min_samples_split=min_samples_split,\n",
        "                            min_samples_leaf=min_samples_leaf,\n",
        "                            max_features=max_feature,\n",
        "                        )\n",
        "\n",
        "                        model.fit(X_train, y_train)\n",
        "\n",
        "                        aktualni_skore = model.score(X_val, y_val)\n",
        "                        if aktualni_skore >= best_score:\n",
        "                            best_hyperparameters = (criterion, max_leaf_node, max_depth, min_samples_split, min_samples_leaf, max_feature)\n",
        "                            best_score = aktualni_skore\n",
        "\n",
        "print(\"Nejlepší hyperparametry:\")\n",
        "print(best_hyperparameters)\n",
        "print(\"Nejlepší skóre:\", best_score)\n"
      ],
      "metadata": {
        "colab": {
          "base_uri": "https://localhost:8080/"
        },
        "id": "V5XaJGb0PPug",
        "outputId": "78fc8109-4646-46f8-aad7-cad5254d92b2"
      },
      "execution_count": 7,
      "outputs": [
        {
          "output_type": "stream",
          "name": "stdout",
          "text": [
            "Nejlepší hyperparametry:\n",
            "('entropy', 30, 10, 2, 1, 'sqrt')\n",
            "Nejlepší skóre: 0.8215488215488216\n"
          ]
        }
      ]
    }
  ]
}